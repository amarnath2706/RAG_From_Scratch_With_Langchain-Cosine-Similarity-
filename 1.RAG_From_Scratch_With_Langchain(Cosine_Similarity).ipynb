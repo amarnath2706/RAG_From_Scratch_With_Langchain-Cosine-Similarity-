{
  "nbformat": 4,
  "nbformat_minor": 0,
  "metadata": {
    "colab": {
      "provenance": [],
      "gpuType": "T4"
    },
    "kernelspec": {
      "name": "python3",
      "display_name": "Python 3"
    },
    "language_info": {
      "name": "python"
    },
    "accelerator": "GPU"
  },
  "cells": [
    {
      "cell_type": "code",
      "execution_count": 1,
      "metadata": {
        "id": "cb0gDHO5Crws"
      },
      "outputs": [],
      "source": [
        "#Three phases in the RAG\n",
        "#1. Ingestion\n",
        "  #data - > chunks - > embeddings - > database\n",
        "\n",
        "#2. Retrieval\n",
        "  #Semantic search(similar search), index, ranked result(multiple results)\n",
        "\n",
        "#3.Generate\n",
        "  #generate the output with the help of LLM. Inside the llm iam passing the prompt and ranked results\n",
        "\n",
        "#4. Evaluate\n",
        "\n",
        "#5. Mutimodel RAG\n",
        "\n",
        "#6. Finetunning vs RAG"
      ]
    },
    {
      "cell_type": "code",
      "source": [
        "corpus_of_documents = [\n",
        "    \"A.P.J. Abdul Kalam (born October 15, 1931, Rameswaram, India—died July 27, 2015, Shillong) was an Indian scientist and politician who played a leading role in the development of India’s missile and nuclear weapons programs.\",\n",
        "    \"He was president of India from 2002 to 2007.\"\n",
        "    \"Kalam earned a degree in aeronautical engineering from the Madras Institute of Technology and in 1958 joined the Defence Research and Development Organisation (DRDO).\",\n",
        "    \"In 1969 he moved to the Indian Space Research Organisation, where he was project director of the SLV-III, the first satellite launch vehicle that was both designed and produced in India. Rejoining DRDO in 1982, Kalam planned the program that produced a number of successful missiles, which helped earn him the nickname “Missile Man.”\",\n",
        "    \"Among those successes was Agni, India’s first intermediate-range ballistic missile, which incorporated aspects of the SLV-III and was launched in 1989.\",\n",
        "    \"From 1992 to 1997 Kalam was scientific adviser to the defense minister, and he later served as principal scientific adviser (1999–2001) to the government with the rank of cabinet minister.\",\n",
        "    \"His prominent role in the country’s 1998 nuclear weapons tests solidified India as a nuclear power and established Kalam as a national hero, although the tests caused great concern in the international community.\",\n",
        "    \"In 1998 Kalam put forward a countrywide plan called Technology Vision 2020, which he described as a road map for transforming India from a less-developed to a developed society in 20 years.\",\n",
        "    \"The plan called for, among other measures, increasing agricultural productivity, emphasizing technology as a vehicle for economic growth, and widening access to health care and education.\",\n",
        "    \"In 2002 India’s ruling National Democratic Alliance (NDA) put forward Kalam to succeed outgoing President Kocheril Raman Narayanan.\",\n",
        "    \"Kalam was nominated by the Hindu nationalist (Hindutva) NDA even though he was Muslim, and his stature and popular appeal were such that even the main opposition party, the Indian National Congress, also proposed his candidacy. Kalam easily won the election and was sworn in as India’s 11th president, a largely ceremonial post, in July 2002. He left office at the end of his term in 2007 and was succeeded by Pratibha Patil, the country’s first woman president.\",\n",
        "    \"Upon returning to civilian life, Kalam remained committed to using science and technology to transform India into a developed country and served as a lecturer at several universities.\",\n",
        "    \"On July 27, 2015, he collapsed while delivering a lecture at the Indian Institute of Management Shillong and was pronounced dead from cardiac arrest soon afterward.\",\n",
        "    \"Kalam wrote several books, including an autobiography, Wings of Fire (1999). Among his numerous awards were two of the country’s highest honors, the Padma Vibhushan (1990) and the Bharat Ratna (1997).\"\n",
        "]"
      ],
      "metadata": {
        "id": "deFP2XNfEpgB"
      },
      "execution_count": 2,
      "outputs": []
    },
    {
      "cell_type": "code",
      "source": [
        "corpus_of_documents"
      ],
      "metadata": {
        "colab": {
          "base_uri": "https://localhost:8080/"
        },
        "id": "iclquHmrG-Pp",
        "outputId": "1db7cde4-7c10-4866-fcef-841b3b0a12d5"
      },
      "execution_count": 4,
      "outputs": [
        {
          "output_type": "execute_result",
          "data": {
            "text/plain": [
              "['A.P.J. Abdul Kalam (born October 15, 1931, Rameswaram, India—died July 27, 2015, Shillong) was an Indian scientist and politician who played a leading role in the development of India’s missile and nuclear weapons programs.',\n",
              " 'He was president of India from 2002 to 2007.Kalam earned a degree in aeronautical engineering from the Madras Institute of Technology and in 1958 joined the Defence Research and Development Organisation (DRDO).',\n",
              " 'In 1969 he moved to the Indian Space Research Organisation, where he was project director of the SLV-III, the first satellite launch vehicle that was both designed and produced in India. Rejoining DRDO in 1982, Kalam planned the program that produced a number of successful missiles, which helped earn him the nickname “Missile Man.”',\n",
              " 'Among those successes was Agni, India’s first intermediate-range ballistic missile, which incorporated aspects of the SLV-III and was launched in 1989.',\n",
              " 'From 1992 to 1997 Kalam was scientific adviser to the defense minister, and he later served as principal scientific adviser (1999–2001) to the government with the rank of cabinet minister.',\n",
              " 'His prominent role in the country’s 1998 nuclear weapons tests solidified India as a nuclear power and established Kalam as a national hero, although the tests caused great concern in the international community.',\n",
              " 'In 1998 Kalam put forward a countrywide plan called Technology Vision 2020, which he described as a road map for transforming India from a less-developed to a developed society in 20 years.',\n",
              " 'The plan called for, among other measures, increasing agricultural productivity, emphasizing technology as a vehicle for economic growth, and widening access to health care and education.',\n",
              " 'In 2002 India’s ruling National Democratic Alliance (NDA) put forward Kalam to succeed outgoing President Kocheril Raman Narayanan.',\n",
              " 'Kalam was nominated by the Hindu nationalist (Hindutva) NDA even though he was Muslim, and his stature and popular appeal were such that even the main opposition party, the Indian National Congress, also proposed his candidacy. Kalam easily won the election and was sworn in as India’s 11th president, a largely ceremonial post, in July 2002. He left office at the end of his term in 2007 and was succeeded by Pratibha Patil, the country’s first woman president.',\n",
              " 'Upon returning to civilian life, Kalam remained committed to using science and technology to transform India into a developed country and served as a lecturer at several universities.',\n",
              " 'On July 27, 2015, he collapsed while delivering a lecture at the Indian Institute of Management Shillong and was pronounced dead from cardiac arrest soon afterward.',\n",
              " 'Kalam wrote several books, including an autobiography, Wings of Fire (1999). Among his numerous awards were two of the country’s highest honors, the Padma Vibhushan (1990) and the Bharat Ratna (1997).']"
            ]
          },
          "metadata": {},
          "execution_count": 4
        }
      ]
    },
    {
      "cell_type": "code",
      "source": [
        "#RAG Architecture"
      ],
      "metadata": {
        "id": "H__ymZ4sHDRg"
      },
      "execution_count": 5,
      "outputs": []
    },
    {
      "cell_type": "markdown",
      "source": [
        "![image.png](data:image/png;base64,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)"
      ],
      "metadata": {
        "id": "s8tDlicHIcAz"
      }
    },
    {
      "cell_type": "code",
      "source": [
        "#Here chunking is not needed, so we need to perform embedding on top of the data\n",
        "user_query = \"iam a huge fan of APJ Abdul Kalam sir and he is the back bone for India space research organization\""
      ],
      "metadata": {
        "id": "PX3bt-aEIeTl"
      },
      "execution_count": 32,
      "outputs": []
    },
    {
      "cell_type": "code",
      "source": [
        "document = \"India have many states and many cultures are followed in different states\""
      ],
      "metadata": {
        "id": "umS81HOsI-by"
      },
      "execution_count": 33,
      "outputs": []
    },
    {
      "cell_type": "code",
      "source": [
        "from collections import Counter\n",
        "import math"
      ],
      "metadata": {
        "id": "sX88hMnJJnSh"
      },
      "execution_count": 34,
      "outputs": []
    },
    {
      "cell_type": "code",
      "source": [
        "query_token = user_query.lower().split(\" \")\n",
        "query_token"
      ],
      "metadata": {
        "colab": {
          "base_uri": "https://localhost:8080/"
        },
        "id": "E6gGpQ4PJwd1",
        "outputId": "2be9a002-c22b-480b-89fe-91cd315978d3"
      },
      "execution_count": 35,
      "outputs": [
        {
          "output_type": "execute_result",
          "data": {
            "text/plain": [
              "['iam',\n",
              " 'a',\n",
              " 'huge',\n",
              " 'fan',\n",
              " 'of',\n",
              " 'apj',\n",
              " 'abdul',\n",
              " 'kalam',\n",
              " 'sir',\n",
              " 'and',\n",
              " 'he',\n",
              " 'is',\n",
              " 'the',\n",
              " 'back',\n",
              " 'bone',\n",
              " 'for',\n",
              " 'india',\n",
              " 'space',\n",
              " 'research',\n",
              " 'organization']"
            ]
          },
          "metadata": {},
          "execution_count": 35
        }
      ]
    },
    {
      "cell_type": "code",
      "source": [
        "document_token = document.lower().split(\" \")\n",
        "document_token"
      ],
      "metadata": {
        "colab": {
          "base_uri": "https://localhost:8080/"
        },
        "id": "JGuYTffKJ4s1",
        "outputId": "7080c80c-3eaf-4d4c-9273-d0739973be36"
      },
      "execution_count": 36,
      "outputs": [
        {
          "output_type": "execute_result",
          "data": {
            "text/plain": [
              "['india',\n",
              " 'have',\n",
              " 'many',\n",
              " 'states',\n",
              " 'and',\n",
              " 'many',\n",
              " 'cultures',\n",
              " 'are',\n",
              " 'followed',\n",
              " 'in',\n",
              " 'different',\n",
              " 'states']"
            ]
          },
          "metadata": {},
          "execution_count": 36
        }
      ]
    },
    {
      "cell_type": "code",
      "source": [
        "#Create my own embedding(numerical representation)\n",
        "query_counter = Counter(query_token) #frequency of the data\n",
        "query_counter"
      ],
      "metadata": {
        "colab": {
          "base_uri": "https://localhost:8080/"
        },
        "id": "QOOmo8CyKOdB",
        "outputId": "ad2d58e9-da01-421d-cbf6-3bfc071e5376"
      },
      "execution_count": 37,
      "outputs": [
        {
          "output_type": "execute_result",
          "data": {
            "text/plain": [
              "Counter({'iam': 1,\n",
              "         'a': 1,\n",
              "         'huge': 1,\n",
              "         'fan': 1,\n",
              "         'of': 1,\n",
              "         'apj': 1,\n",
              "         'abdul': 1,\n",
              "         'kalam': 1,\n",
              "         'sir': 1,\n",
              "         'and': 1,\n",
              "         'he': 1,\n",
              "         'is': 1,\n",
              "         'the': 1,\n",
              "         'back': 1,\n",
              "         'bone': 1,\n",
              "         'for': 1,\n",
              "         'india': 1,\n",
              "         'space': 1,\n",
              "         'research': 1,\n",
              "         'organization': 1})"
            ]
          },
          "metadata": {},
          "execution_count": 37
        }
      ]
    },
    {
      "cell_type": "code",
      "source": [
        "document_counter=Counter(document_token)\n",
        "document_counter"
      ],
      "metadata": {
        "colab": {
          "base_uri": "https://localhost:8080/"
        },
        "id": "93iLNlREKre6",
        "outputId": "c3a14a0a-b878-4c6c-a36d-d069ddedccde"
      },
      "execution_count": 38,
      "outputs": [
        {
          "output_type": "execute_result",
          "data": {
            "text/plain": [
              "Counter({'india': 1,\n",
              "         'have': 1,\n",
              "         'many': 2,\n",
              "         'states': 2,\n",
              "         'and': 1,\n",
              "         'cultures': 1,\n",
              "         'are': 1,\n",
              "         'followed': 1,\n",
              "         'in': 1,\n",
              "         'different': 1})"
            ]
          },
          "metadata": {},
          "execution_count": 38
        }
      ]
    },
    {
      "cell_type": "code",
      "source": [
        "query_counter.keys()"
      ],
      "metadata": {
        "colab": {
          "base_uri": "https://localhost:8080/"
        },
        "id": "VTFRxlOhK7R7",
        "outputId": "e6bfc58d-af5d-4ab5-cde9-de08cf177ed9"
      },
      "execution_count": 39,
      "outputs": [
        {
          "output_type": "execute_result",
          "data": {
            "text/plain": [
              "dict_keys(['iam', 'a', 'huge', 'fan', 'of', 'apj', 'abdul', 'kalam', 'sir', 'and', 'he', 'is', 'the', 'back', 'bone', 'for', 'india', 'space', 'research', 'organization'])"
            ]
          },
          "metadata": {},
          "execution_count": 39
        }
      ]
    },
    {
      "cell_type": "code",
      "source": [
        "for i in query_counter.keys():\n",
        "  print(i)"
      ],
      "metadata": {
        "colab": {
          "base_uri": "https://localhost:8080/"
        },
        "id": "UKNR1WLVLWOK",
        "outputId": "148dcab6-0120-4884-eccb-f18183d5cd21"
      },
      "execution_count": 40,
      "outputs": [
        {
          "output_type": "stream",
          "name": "stdout",
          "text": [
            "iam\n",
            "a\n",
            "huge\n",
            "fan\n",
            "of\n",
            "apj\n",
            "abdul\n",
            "kalam\n",
            "sir\n",
            "and\n",
            "he\n",
            "is\n",
            "the\n",
            "back\n",
            "bone\n",
            "for\n",
            "india\n",
            "space\n",
            "research\n",
            "organization\n"
          ]
        }
      ]
    },
    {
      "cell_type": "code",
      "source": [
        "for i in query_counter.keys():\n",
        "  print(query_counter[i])"
      ],
      "metadata": {
        "colab": {
          "base_uri": "https://localhost:8080/"
        },
        "id": "-IWfHvOWLdcz",
        "outputId": "393ab829-a91c-4e53-d244-353f897727d6"
      },
      "execution_count": 41,
      "outputs": [
        {
          "output_type": "stream",
          "name": "stdout",
          "text": [
            "1\n",
            "1\n",
            "1\n",
            "1\n",
            "1\n",
            "1\n",
            "1\n",
            "1\n",
            "1\n",
            "1\n",
            "1\n",
            "1\n",
            "1\n",
            "1\n",
            "1\n",
            "1\n",
            "1\n",
            "1\n",
            "1\n",
            "1\n"
          ]
        }
      ]
    },
    {
      "cell_type": "code",
      "source": [
        "embed = []\n",
        "for i in query_counter.keys():\n",
        "  embed.append(query_counter[i])"
      ],
      "metadata": {
        "id": "aLIC1sIULpNn"
      },
      "execution_count": 42,
      "outputs": []
    },
    {
      "cell_type": "code",
      "source": [
        "embed"
      ],
      "metadata": {
        "colab": {
          "base_uri": "https://localhost:8080/"
        },
        "id": "dHSTwSziL4We",
        "outputId": "42fb3c89-ccbb-4d83-9ddb-ad11af32fb2d"
      },
      "execution_count": 43,
      "outputs": [
        {
          "output_type": "execute_result",
          "data": {
            "text/plain": [
              "[1, 1, 1, 1, 1, 1, 1, 1, 1, 1, 1, 1, 1, 1, 1, 1, 1, 1, 1, 1]"
            ]
          },
          "metadata": {},
          "execution_count": 43
        }
      ]
    },
    {
      "cell_type": "code",
      "source": [
        "embed_doc = []\n",
        "for i in document_counter.keys():\n",
        "  embed_doc.append(document_counter[i])"
      ],
      "metadata": {
        "id": "qnRxhAULL5Uv"
      },
      "execution_count": 44,
      "outputs": []
    },
    {
      "cell_type": "code",
      "source": [
        "embed_doc"
      ],
      "metadata": {
        "colab": {
          "base_uri": "https://localhost:8080/"
        },
        "id": "Vjg0T8axMS43",
        "outputId": "21346ca7-668f-4bf4-b9b2-4aef685e99a1"
      },
      "execution_count": 45,
      "outputs": [
        {
          "output_type": "execute_result",
          "data": {
            "text/plain": [
              "[1, 1, 2, 2, 1, 1, 1, 1, 1, 1]"
            ]
          },
          "metadata": {},
          "execution_count": 45
        }
      ]
    },
    {
      "cell_type": "code",
      "source": [
        "#Semantic search - Cosine similarity\n",
        "#Similarity score between the document and the user query\n",
        "user_query"
      ],
      "metadata": {
        "colab": {
          "base_uri": "https://localhost:8080/",
          "height": 36
        },
        "id": "DryFA1E8MUgm",
        "outputId": "d0086b4c-71cb-40b4-ce69-cc166f546432"
      },
      "execution_count": 46,
      "outputs": [
        {
          "output_type": "execute_result",
          "data": {
            "text/plain": [
              "'iam a huge fan of APJ Abdul Kalam sir and he is the back bone for India space research organization'"
            ],
            "application/vnd.google.colaboratory.intrinsic+json": {
              "type": "string"
            }
          },
          "metadata": {},
          "execution_count": 46
        }
      ]
    },
    {
      "cell_type": "code",
      "source": [
        "document"
      ],
      "metadata": {
        "colab": {
          "base_uri": "https://localhost:8080/",
          "height": 36
        },
        "id": "n-qv1QXfNXZF",
        "outputId": "5b1946af-3cb0-4b3b-8495-290c8320e7e0"
      },
      "execution_count": 47,
      "outputs": [
        {
          "output_type": "execute_result",
          "data": {
            "text/plain": [
              "'India have many states and many cultures are followed in different states'"
            ],
            "application/vnd.google.colaboratory.intrinsic+json": {
              "type": "string"
            }
          },
          "metadata": {},
          "execution_count": 47
        }
      ]
    },
    {
      "cell_type": "code",
      "source": [
        "#Now iam going to findout the similarity score between the user query and document\n",
        "for i in query_counter.keys() & document_counter.keys():\n",
        "  print(i)\n",
        "#here the word 'india' & 'and' are the similar words present in the user query and document"
      ],
      "metadata": {
        "colab": {
          "base_uri": "https://localhost:8080/"
        },
        "id": "DFkdb5XqNYP2",
        "outputId": "7293553e-9e5c-4c59-c7ab-ccafa918ccba"
      },
      "execution_count": 48,
      "outputs": [
        {
          "output_type": "stream",
          "name": "stdout",
          "text": [
            "india\n",
            "and\n"
          ]
        }
      ]
    },
    {
      "cell_type": "code",
      "source": [
        "my_list = []\n",
        "for i in query_counter.keys() &   document_counter.keys():\n",
        "  my_list.append(query_counter[i]*document_counter[i])"
      ],
      "metadata": {
        "id": "bl2psdzZN1_u"
      },
      "execution_count": 49,
      "outputs": []
    },
    {
      "cell_type": "code",
      "source": [
        "my_list"
      ],
      "metadata": {
        "colab": {
          "base_uri": "https://localhost:8080/"
        },
        "id": "xaxD43FYPgdg",
        "outputId": "7c88b1e2-9526-4cf7-b2de-8805e95138c5"
      },
      "execution_count": 50,
      "outputs": [
        {
          "output_type": "execute_result",
          "data": {
            "text/plain": [
              "[1, 1]"
            ]
          },
          "metadata": {},
          "execution_count": 50
        }
      ]
    },
    {
      "cell_type": "code",
      "source": [
        "#dot prodect of query and document\n",
        "dot_prod=sum(my_list)\n",
        "dot_prod"
      ],
      "metadata": {
        "colab": {
          "base_uri": "https://localhost:8080/"
        },
        "id": "EYpQpXADPjZr",
        "outputId": "6de3eebc-1609-4c4f-cfb9-f9e731eb68e0"
      },
      "execution_count": 52,
      "outputs": [
        {
          "output_type": "execute_result",
          "data": {
            "text/plain": [
              "2"
            ]
          },
          "metadata": {},
          "execution_count": 52
        }
      ]
    },
    {
      "cell_type": "code",
      "source": [
        "#magnitude of query and document\n",
        "query_magnitude = math.sqrt(sum(query_counter[i]**2 for i in query_counter))\n",
        "query_magnitude"
      ],
      "metadata": {
        "colab": {
          "base_uri": "https://localhost:8080/"
        },
        "id": "L1dE9xfVQXAS",
        "outputId": "aabdbb5b-99f1-4b1e-be08-ba0aec5a8961"
      },
      "execution_count": 53,
      "outputs": [
        {
          "output_type": "execute_result",
          "data": {
            "text/plain": [
              "4.47213595499958"
            ]
          },
          "metadata": {},
          "execution_count": 53
        }
      ]
    },
    {
      "cell_type": "code",
      "source": [
        "document_magnitude = math.sqrt(sum(document_counter[i]**2 for i in document_counter))\n",
        "document_magnitude"
      ],
      "metadata": {
        "colab": {
          "base_uri": "https://localhost:8080/"
        },
        "id": "LgmkJ-orQ4s4",
        "outputId": "ce51fc73-3d6b-4fea-b46f-c3dc3c9de17e"
      },
      "execution_count": 54,
      "outputs": [
        {
          "output_type": "execute_result",
          "data": {
            "text/plain": [
              "4.0"
            ]
          },
          "metadata": {},
          "execution_count": 54
        }
      ]
    },
    {
      "cell_type": "code",
      "source": [
        "similarity = (dot_prod)/(query_magnitude*document_magnitude)\n",
        "similarity"
      ],
      "metadata": {
        "colab": {
          "base_uri": "https://localhost:8080/"
        },
        "id": "E_yjqiTmRFUA",
        "outputId": "1c50561f-52d9-495f-df1c-2f591d38898a"
      },
      "execution_count": 55,
      "outputs": [
        {
          "output_type": "execute_result",
          "data": {
            "text/plain": [
              "0.11180339887498948"
            ]
          },
          "metadata": {},
          "execution_count": 55
        }
      ]
    },
    {
      "cell_type": "code",
      "source": [
        "def cosine_similarity(query, document):\n",
        "    # Tokenize and convert to lowercase\n",
        "    query_tokens = query.lower().split(\" \")\n",
        "    document_tokens = document.lower().split(\" \")\n",
        "\n",
        "    # Create Counters for query and document\n",
        "    query_counter = Counter(query_tokens)\n",
        "    document_counter = Counter(document_tokens)\n",
        "\n",
        "    # Calculate dot product\n",
        "    dot_product = sum(query_counter[token] * document_counter[token] for token in query_counter.keys() & document_counter.keys())\n",
        "\n",
        "    # Calculate magnitudes\n",
        "    query_magnitude = math.sqrt(sum(query_counter[token] ** 2 for token in query_counter))\n",
        "    document_magnitude = math.sqrt(sum(document_counter[token] ** 2 for token in document_counter))\n",
        "\n",
        "    # Calculate cosine similarity\n",
        "    similarity = dot_product / (query_magnitude * document_magnitude) if query_magnitude * document_magnitude != 0 else 0\n",
        "\n",
        "    return similarity"
      ],
      "metadata": {
        "id": "vtN_hH-jRZpL"
      },
      "execution_count": 56,
      "outputs": []
    },
    {
      "cell_type": "code",
      "source": [
        "user_query = 'summer summer go away, because you are very hot in many states of India'"
      ],
      "metadata": {
        "id": "oio2akBaRnBG"
      },
      "execution_count": 59,
      "outputs": []
    },
    {
      "cell_type": "code",
      "source": [
        "document = \"summer is the season where you feel the scorching heat in many states of India\""
      ],
      "metadata": {
        "id": "ejNi3aN8R31O"
      },
      "execution_count": 60,
      "outputs": []
    },
    {
      "cell_type": "code",
      "source": [
        "cosine_similarity(user_query,document)"
      ],
      "metadata": {
        "colab": {
          "base_uri": "https://localhost:8080/"
        },
        "id": "tT6wJxVHSdVt",
        "outputId": "271afae4-8f60-4627-aa32-b1cf05afee93"
      },
      "execution_count": 62,
      "outputs": [
        {
          "output_type": "execute_result",
          "data": {
            "text/plain": [
              "0.48507125007266594"
            ]
          },
          "metadata": {},
          "execution_count": 62
        }
      ]
    },
    {
      "cell_type": "code",
      "source": [
        "#ranked results\n",
        "def return_response(query, corpus):\n",
        "    similarities = []\n",
        "    for doc in corpus:\n",
        "        similarity = cosine_similarity(query, doc)\n",
        "        similarities.append(similarity)\n",
        "    return corpus_of_documents[similarities.index(max(similarities))]\n"
      ],
      "metadata": {
        "id": "65GNd3hpVfCE"
      },
      "execution_count": 71,
      "outputs": []
    },
    {
      "cell_type": "code",
      "source": [
        " #Here we need to perform the RAG\n",
        " #For RAG Llm is required\n",
        "!pip install --upgrade openai\n",
        " #sk-proj-S5ejphQdpqHbEajTtezsT3BlbkFJio3Bjn4fEAqysR7euUhu"
      ],
      "metadata": {
        "colab": {
          "base_uri": "https://localhost:8080/"
        },
        "id": "iKcDQGFmSkvA",
        "outputId": "b4c4f5ad-64c8-4b92-879a-cf25b107bf5d"
      },
      "execution_count": 63,
      "outputs": [
        {
          "output_type": "stream",
          "name": "stdout",
          "text": [
            "Collecting openai\n",
            "  Downloading openai-1.30.2-py3-none-any.whl (320 kB)\n",
            "\u001b[?25l     \u001b[90m━━━━━━━━━━━━━━━━━━━━━━━━━━━━━━━━━━━━━━━━\u001b[0m \u001b[32m0.0/320.7 kB\u001b[0m \u001b[31m?\u001b[0m eta \u001b[36m-:--:--\u001b[0m\r\u001b[2K     \u001b[91m━━━━━━━━━━━━━━━━━━━━━━━━━\u001b[0m\u001b[91m╸\u001b[0m\u001b[90m━━━━━━━━━━━━━━\u001b[0m \u001b[32m204.8/320.7 kB\u001b[0m \u001b[31m5.9 MB/s\u001b[0m eta \u001b[36m0:00:01\u001b[0m\r\u001b[2K     \u001b[90m━━━━━━━━━━━━━━━━━━━━━━━━━━━━━━━━━━━━━━━━\u001b[0m \u001b[32m320.7/320.7 kB\u001b[0m \u001b[31m5.9 MB/s\u001b[0m eta \u001b[36m0:00:00\u001b[0m\n",
            "\u001b[?25hRequirement already satisfied: anyio<5,>=3.5.0 in /usr/local/lib/python3.10/dist-packages (from openai) (3.7.1)\n",
            "Requirement already satisfied: distro<2,>=1.7.0 in /usr/lib/python3/dist-packages (from openai) (1.7.0)\n",
            "Collecting httpx<1,>=0.23.0 (from openai)\n",
            "  Downloading httpx-0.27.0-py3-none-any.whl (75 kB)\n",
            "\u001b[2K     \u001b[90m━━━━━━━━━━━━━━━━━━━━━━━━━━━━━━━━━━━━━━━━\u001b[0m \u001b[32m75.6/75.6 kB\u001b[0m \u001b[31m5.4 MB/s\u001b[0m eta \u001b[36m0:00:00\u001b[0m\n",
            "\u001b[?25hRequirement already satisfied: pydantic<3,>=1.9.0 in /usr/local/lib/python3.10/dist-packages (from openai) (2.7.1)\n",
            "Requirement already satisfied: sniffio in /usr/local/lib/python3.10/dist-packages (from openai) (1.3.1)\n",
            "Requirement already satisfied: tqdm>4 in /usr/local/lib/python3.10/dist-packages (from openai) (4.66.4)\n",
            "Requirement already satisfied: typing-extensions<5,>=4.7 in /usr/local/lib/python3.10/dist-packages (from openai) (4.11.0)\n",
            "Requirement already satisfied: idna>=2.8 in /usr/local/lib/python3.10/dist-packages (from anyio<5,>=3.5.0->openai) (3.7)\n",
            "Requirement already satisfied: exceptiongroup in /usr/local/lib/python3.10/dist-packages (from anyio<5,>=3.5.0->openai) (1.2.1)\n",
            "Requirement already satisfied: certifi in /usr/local/lib/python3.10/dist-packages (from httpx<1,>=0.23.0->openai) (2024.2.2)\n",
            "Collecting httpcore==1.* (from httpx<1,>=0.23.0->openai)\n",
            "  Downloading httpcore-1.0.5-py3-none-any.whl (77 kB)\n",
            "\u001b[2K     \u001b[90m━━━━━━━━━━━━━━━━━━━━━━━━━━━━━━━━━━━━━━━━\u001b[0m \u001b[32m77.9/77.9 kB\u001b[0m \u001b[31m5.3 MB/s\u001b[0m eta \u001b[36m0:00:00\u001b[0m\n",
            "\u001b[?25hCollecting h11<0.15,>=0.13 (from httpcore==1.*->httpx<1,>=0.23.0->openai)\n",
            "  Downloading h11-0.14.0-py3-none-any.whl (58 kB)\n",
            "\u001b[2K     \u001b[90m━━━━━━━━━━━━━━━━━━━━━━━━━━━━━━━━━━━━━━━━\u001b[0m \u001b[32m58.3/58.3 kB\u001b[0m \u001b[31m7.1 MB/s\u001b[0m eta \u001b[36m0:00:00\u001b[0m\n",
            "\u001b[?25hRequirement already satisfied: annotated-types>=0.4.0 in /usr/local/lib/python3.10/dist-packages (from pydantic<3,>=1.9.0->openai) (0.6.0)\n",
            "Requirement already satisfied: pydantic-core==2.18.2 in /usr/local/lib/python3.10/dist-packages (from pydantic<3,>=1.9.0->openai) (2.18.2)\n",
            "Installing collected packages: h11, httpcore, httpx, openai\n",
            "Successfully installed h11-0.14.0 httpcore-1.0.5 httpx-0.27.0 openai-1.30.2\n"
          ]
        }
      ]
    },
    {
      "cell_type": "code",
      "source": [
        "OPENAI_API_KEY = \"*****************************************\" #here give your api key"
      ],
      "metadata": {
        "id": "JoVnE5FUTubZ"
      },
      "execution_count": 64,
      "outputs": []
    },
    {
      "cell_type": "code",
      "source": [
        "from openai import OpenAI\n",
        "client = OpenAI(api_key=OPENAI_API_KEY)"
      ],
      "metadata": {
        "id": "JvZiFEp7UJ8m"
      },
      "execution_count": 66,
      "outputs": []
    },
    {
      "cell_type": "code",
      "source": [
        "completion = client.chat.completions.create(\n",
        "  model=\"gpt-3.5-turbo\",\n",
        "  messages=[\n",
        "    {\"role\": \"system\", \"content\": \"you are a helpfull assistant.\"},\n",
        "    {\"role\": \"user\", \"content\": \"who won the world T20 cricket world cup in 2023?\"}\n",
        "  ]\n",
        ")\n",
        "print(completion.choices[0].message)"
      ],
      "metadata": {
        "colab": {
          "base_uri": "https://localhost:8080/"
        },
        "id": "JY0Lmr5LUAQi",
        "outputId": "f12d00ac-30c3-4ed3-c00b-e57fe3b1faaa"
      },
      "execution_count": 69,
      "outputs": [
        {
          "output_type": "stream",
          "name": "stdout",
          "text": [
            "ChatCompletionMessage(content='I am unable to provide real-time or recent sports results as my information is not updated in real-time. I recommend checking sports news websites, the official ICC website, or other reliable sources for the most up-to-date information on the winner of the World T20 cricket world cup in 2023.', role='assistant', function_call=None, tool_calls=None)\n"
          ]
        }
      ]
    },
    {
      "cell_type": "code",
      "source": [
        "print(completion.choices[0].message.content )"
      ],
      "metadata": {
        "colab": {
          "base_uri": "https://localhost:8080/"
        },
        "id": "iLMJYV25UkqP",
        "outputId": "d09f337e-2895-430b-f9bc-bbc353cd2985"
      },
      "execution_count": 70,
      "outputs": [
        {
          "output_type": "stream",
          "name": "stdout",
          "text": [
            "I am unable to provide real-time or recent sports results as my information is not updated in real-time. I recommend checking sports news websites, the official ICC website, or other reliable sources for the most up-to-date information on the winner of the World T20 cricket world cup in 2023.\n"
          ]
        }
      ]
    },
    {
      "cell_type": "code",
      "source": [
        "corpus_of_documents = [\n",
        "    \"A.P.J. Abdul Kalam (born October 15, 1931, Rameswaram, India—died July 27, 2015, Shillong) was an Indian scientist and politician who played a leading role in the development of India’s missile and nuclear weapons programs.\",\n",
        "    \"He was president of India from 2002 to 2007.\"\n",
        "    \"Kalam earned a degree in aeronautical engineering from the Madras Institute of Technology and in 1958 joined the Defence Research and Development Organisation (DRDO).\",\n",
        "    \"In 1969 he moved to the Indian Space Research Organisation, where he was project director of the SLV-III, the first satellite launch vehicle that was both designed and produced in India. Rejoining DRDO in 1982, Kalam planned the program that produced a number of successful missiles, which helped earn him the nickname “Missile Man.”\",\n",
        "    \"Among those successes was Agni, India’s first intermediate-range ballistic missile, which incorporated aspects of the SLV-III and was launched in 1989.\",\n",
        "    \"From 1992 to 1997 Kalam was scientific adviser to the defense minister, and he later served as principal scientific adviser (1999–2001) to the government with the rank of cabinet minister.\",\n",
        "    \"His prominent role in the country’s 1998 nuclear weapons tests solidified India as a nuclear power and established Kalam as a national hero, although the tests caused great concern in the international community.\",\n",
        "    \"In 1998 Kalam put forward a countrywide plan called Technology Vision 2020, which he described as a road map for transforming India from a less-developed to a developed society in 20 years.\",\n",
        "    \"The plan called for, among other measures, increasing agricultural productivity, emphasizing technology as a vehicle for economic growth, and widening access to health care and education.\",\n",
        "    \"In 2002 India’s ruling National Democratic Alliance (NDA) put forward Kalam to succeed outgoing President Kocheril Raman Narayanan.\",\n",
        "    \"Kalam was nominated by the Hindu nationalist (Hindutva) NDA even though he was Muslim, and his stature and popular appeal were such that even the main opposition party, the Indian National Congress, also proposed his candidacy. Kalam easily won the election and was sworn in as India’s 11th president, a largely ceremonial post, in July 2002. He left office at the end of his term in 2007 and was succeeded by Pratibha Patil, the country’s first woman president.\",\n",
        "    \"Upon returning to civilian life, Kalam remained committed to using science and technology to transform India into a developed country and served as a lecturer at several universities.\",\n",
        "    \"On July 27, 2015, he collapsed while delivering a lecture at the Indian Institute of Management Shillong and was pronounced dead from cardiac arrest soon afterward.\",\n",
        "    \"Kalam wrote several books, including an autobiography, Wings of Fire (1999). Among his numerous awards were two of the country’s highest honors, the Padma Vibhushan (1990) and the Bharat Ratna (1997).\"\n",
        "]"
      ],
      "metadata": {
        "id": "ri2kOH-MVKZw"
      },
      "execution_count": 72,
      "outputs": []
    },
    {
      "cell_type": "code",
      "source": [
        "user_query = \"A.P.J Abdul Kalam died?\""
      ],
      "metadata": {
        "id": "xlaCojZVWANs"
      },
      "execution_count": 75,
      "outputs": []
    },
    {
      "cell_type": "code",
      "source": [
        "return_response(user_query,corpus_of_documents)"
      ],
      "metadata": {
        "colab": {
          "base_uri": "https://localhost:8080/",
          "height": 53
        },
        "id": "_vcCk-FMWJ5l",
        "outputId": "1207d6de-9b8a-447c-daab-aea3cc59cbba"
      },
      "execution_count": 76,
      "outputs": [
        {
          "output_type": "execute_result",
          "data": {
            "text/plain": [
              "'A.P.J. Abdul Kalam (born October 15, 1931, Rameswaram, India—died July 27, 2015, Shillong) was an Indian scientist and politician who played a leading role in the development of India’s missile and nuclear weapons programs.'"
            ],
            "application/vnd.google.colaboratory.intrinsic+json": {
              "type": "string"
            }
          },
          "metadata": {},
          "execution_count": 76
        }
      ]
    },
    {
      "cell_type": "code",
      "source": [
        "relevant_document = return_response(user_query,corpus_of_documents)\n",
        "relevant_document"
      ],
      "metadata": {
        "colab": {
          "base_uri": "https://localhost:8080/",
          "height": 53
        },
        "id": "6LgWVQgWY2FT",
        "outputId": "7f921d35-65e6-450a-9354-67b9ca6ffdd5"
      },
      "execution_count": 79,
      "outputs": [
        {
          "output_type": "execute_result",
          "data": {
            "text/plain": [
              "'A.P.J. Abdul Kalam (born October 15, 1931, Rameswaram, India—died July 27, 2015, Shillong) was an Indian scientist and politician who played a leading role in the development of India’s missile and nuclear weapons programs.'"
            ],
            "application/vnd.google.colaboratory.intrinsic+json": {
              "type": "string"
            }
          },
          "metadata": {},
          "execution_count": 79
        }
      ]
    },
    {
      "cell_type": "code",
      "source": [
        "user_input = \"A.P.J Abdul Kalam died?\""
      ],
      "metadata": {
        "id": "xbpAaPutZD_a"
      },
      "execution_count": 84,
      "outputs": []
    },
    {
      "cell_type": "code",
      "source": [
        "relevant_document = return_response(user_query,corpus_of_documents)\n",
        "relevant_document"
      ],
      "metadata": {
        "colab": {
          "base_uri": "https://localhost:8080/",
          "height": 53
        },
        "id": "p6UgUYZvaTnP",
        "outputId": "f84fbef3-e0b4-4c35-8d12-ba9a5b6534ff"
      },
      "execution_count": 85,
      "outputs": [
        {
          "output_type": "execute_result",
          "data": {
            "text/plain": [
              "'A.P.J. Abdul Kalam (born October 15, 1931, Rameswaram, India—died July 27, 2015, Shillong) was an Indian scientist and politician who played a leading role in the development of India’s missile and nuclear weapons programs.'"
            ],
            "application/vnd.google.colaboratory.intrinsic+json": {
              "type": "string"
            }
          },
          "metadata": {},
          "execution_count": 85
        }
      ]
    },
    {
      "cell_type": "code",
      "source": [
        "#generation using llm\n",
        "#full_response = []"
      ],
      "metadata": {
        "id": "9I1sokmJWWWa"
      },
      "execution_count": 81,
      "outputs": []
    },
    {
      "cell_type": "code",
      "source": [
        "\"\"\"prompt = \"\"\"\n",
        "\"\"\"\n",
        "you are a bot. make sure your answer should be short.\n",
        "This is the given information : {relavant_document}\n",
        "The user input is : {user_input}\n",
        "Compile a final information to the user based on thier input.\n",
        "\n",
        "\"\"\""
      ],
      "metadata": {
        "colab": {
          "base_uri": "https://localhost:8080/",
          "height": 53
        },
        "id": "YoXM2XD_Xyra",
        "outputId": "b64f5b2b-e9e0-45bc-9616-5bd58a6fe6a5"
      },
      "execution_count": 82,
      "outputs": [
        {
          "output_type": "execute_result",
          "data": {
            "text/plain": [
              "'\\nyou are a bot. make sure your answer should be short.\\nThis is the given information : {relavant_document}\\nThe user input is : {user_input}\\nCompile a final information to the user based on thier input.\\n\\n'"
            ],
            "application/vnd.google.colaboratory.intrinsic+json": {
              "type": "string"
            }
          },
          "metadata": {},
          "execution_count": 82
        }
      ]
    },
    {
      "cell_type": "code",
      "source": [
        "#Here iam augement the responese through LLM\n",
        "prompt = f\"\"\"\n",
        "This is the given information: {relevant_document}\n",
        "The user input is: {user_input}\n",
        "Compile a final information to the user based on the given information and the user input.\n",
        "\"\"\""
      ],
      "metadata": {
        "id": "Db1_K2CgXaaN"
      },
      "execution_count": 86,
      "outputs": []
    },
    {
      "cell_type": "code",
      "source": [
        "print(prompt)"
      ],
      "metadata": {
        "colab": {
          "base_uri": "https://localhost:8080/"
        },
        "id": "zvpgMgztZbCN",
        "outputId": "d15559db-2071-45ff-d825-d2d12dee542c"
      },
      "execution_count": 87,
      "outputs": [
        {
          "output_type": "stream",
          "name": "stdout",
          "text": [
            "\n",
            "This is the given information: A.P.J. Abdul Kalam (born October 15, 1931, Rameswaram, India—died July 27, 2015, Shillong) was an Indian scientist and politician who played a leading role in the development of India’s missile and nuclear weapons programs.\n",
            "The user input is: A.P.J Abdul Kalam died?\n",
            "Compile a final information to the user based on the given information and the user input.\n",
            "\n"
          ]
        }
      ]
    },
    {
      "cell_type": "code",
      "source": [
        "completion = client.chat.completions.create(\n",
        "  model=\"gpt-3.5-turbo\",\n",
        "  messages=[\n",
        "    {\"role\": \"system\", \"content\": \"you are good bot\"},\n",
        "    {\"role\": \"user\", \"content\":prompt }\n",
        "  ]\n",
        ")"
      ],
      "metadata": {
        "id": "Iy5F2wR2ZdJi"
      },
      "execution_count": 90,
      "outputs": []
    },
    {
      "cell_type": "code",
      "source": [
        "print(completion.choices[0].message.content)"
      ],
      "metadata": {
        "colab": {
          "base_uri": "https://localhost:8080/"
        },
        "id": "CaH6lCSFZf4d",
        "outputId": "66e83005-5d26-44e2-cc52-57ad9a904f05"
      },
      "execution_count": 91,
      "outputs": [
        {
          "output_type": "stream",
          "name": "stdout",
          "text": [
            "Yes, based on the given information, A.P.J. Abdul Kalam passed away on July 27, 2015, in Shillong, India. He was an Indian scientist and politician who made significant contributions to the development of India's missile and nuclear weapons programs.\n"
          ]
        }
      ]
    },
    {
      "cell_type": "code",
      "source": [
        "completion = client.chat.completions.create(\n",
        "  model=\"gpt-3.5-turbo\",\n",
        "  messages=[\n",
        "    {\"role\": \"system\", \"content\": \"you are aggressive bot\"},\n",
        "    {\"role\": \"user\", \"content\":prompt }\n",
        "  ]\n",
        ")"
      ],
      "metadata": {
        "id": "QKKr8yGfa3bX"
      },
      "execution_count": 92,
      "outputs": []
    },
    {
      "cell_type": "code",
      "source": [
        "print(completion.choices[0].message.content)"
      ],
      "metadata": {
        "colab": {
          "base_uri": "https://localhost:8080/"
        },
        "id": "m_jLzZTEbcdM",
        "outputId": "5637d47c-c95d-4e97-8437-3708f7a4f648"
      },
      "execution_count": 93,
      "outputs": [
        {
          "output_type": "stream",
          "name": "stdout",
          "text": [
            "Yes, according to the given information, A.P.J. Abdul Kalam passed away on July 27, 2015, in Shillong, India. He was an Indian scientist and politician who made significant contributions to India's missile and nuclear weapons programs.\n"
          ]
        }
      ]
    },
    {
      "cell_type": "code",
      "source": [],
      "metadata": {
        "id": "lv_KG6uPbd_7"
      },
      "execution_count": null,
      "outputs": []
    }
  ]
}